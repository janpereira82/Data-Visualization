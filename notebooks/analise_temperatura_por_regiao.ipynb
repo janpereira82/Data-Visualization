{
 "cells": [
  {
   "cell_type": "markdown",
   "metadata": {},
   "source": [
    "# Análise de Temperatura por Região do Brasil\n",
    "\n",
    "Este notebook realiza uma análise detalhada das temperaturas nas diferentes regiões do Brasil, utilizando dados do INMET de 2024."
   ]
  },
  {
   "cell_type": "code",
   "execution_count": null,
   "metadata": {},
   "source": [
    "# Importação das bibliotecas necessárias\n",
    "import pandas as pd\n",
    "import numpy as np\n",
    "import matplotlib.pyplot as plt\n",
    "import seaborn as sns\n",
    "import plotly.express as px\n",
    "import plotly.graph_objects as go\n",
    "from glob import glob\n",
    "import os\n",
    "\n",
    "# Configurações de visualização\n",
    "plt.style.use('seaborn')\n",
    "sns.set_theme(style=\"whitegrid\")\n",
    "%matplotlib inline\n",
    "\n",
    "# Configurando o pandas para exibir mais colunas\n",
    "pd.set_option('display.max_columns', None)"
   ]
  },
  {
   "cell_type": "markdown",
   "metadata": {},
   "source": [
    "## Carregamento e Preparação dos Dados\n",
    "\n",
    "Vamos carregar os dados de todas as estações meteorológicas e organizá-los por região."
   ]
  },
  {
   "cell_type": "code",
   "execution_count": null,
   "metadata": {},
   "source": [
    "def carregar_dados_regiao(pasta_dados, regiao):\n",
    "    \"\"\"Carrega dados de uma região específica.\n",
    "    \n",
    "    Args:\n",
    "        pasta_dados (str): Caminho para a pasta com os arquivos CSV\n",
    "        regiao (str): Sigla da região (N, NE, CO, SE, S)\n",
    "        \n",
    "    Returns:\n",
    "        pd.DataFrame: DataFrame com os dados da região\n",
    "    \"\"\"\n",
    "    arquivos = glob(os.path.join(pasta_dados, f'INMET_{regiao}_*.CSV'))\n",
    "    dfs = []\n",
    "    \n",
    "    for arquivo in arquivos:\n",
    "        try:\n",
    "            df = pd.read_csv(arquivo, sep=';', decimal=',')\n",
    "            df['REGIAO'] = regiao\n",
    "            df['ESTACAO'] = os.path.basename(arquivo).split('_')[3]\n",
    "            dfs.append(df)\n",
    "        except Exception as e:\n",
    "            print(f'Erro ao ler {arquivo}: {e}')\n",
    "            \n",
    "    return pd.concat(dfs, ignore_index=True) if dfs else None\n",
    "\n",
    "# Carregar dados de todas as regiões\n",
    "pasta_dados = '../data'\n",
    "regioes = ['N', 'NE', 'CO', 'SE', 'S']\n",
    "dados_por_regiao = {}\n",
    "\n",
    "for regiao in regioes:\n",
    "    dados_por_regiao[regiao] = carregar_dados_regiao(pasta_dados, regiao)"
   ]
  },
  {
   "cell_type": "markdown",
   "metadata": {},
   "source": [
    "## Análise de Temperatura por Região\n",
    "\n",
    "Vamos analisar as temperaturas médias, máximas e mínimas por região."
   ]
  },
  {
   "cell_type": "code",
   "execution_count": null,
   "metadata": {},
   "source": [
    "def analise_temperatura_regiao(df, regiao):\n",
    "    \"\"\"Realiza análise estatística das temperaturas de uma região.\n",
    "    \n",
    "    Args:\n",
    "        df (pd.DataFrame): DataFrame com os dados\n",
    "        regiao (str): Nome da região\n",
    "    \"\"\"\n",
    "    if df is None:\n",
    "        print(f'Sem dados para a região {regiao}')\n",
    "        return\n",
    "    \n",
    "    # Estatísticas básicas\n",
    "    stats = df[['TEMPERATURA MÁXIMA, (°C)', 'TEMPERATURA MÍNIMA, (°C)', 'TEMPERATURA MÉDIA, (°C)']].describe()\n",
    "    \n",
    "    # Plotar distribuição das temperaturas\n",
    "    plt.figure(figsize=(15, 6))\n",
    "    sns.boxplot(data=df[['TEMPERATURA MÁXIMA, (°C)', 'TEMPERATURA MÍNIMA, (°C)', 'TEMPERATURA MÉDIA, (°C)']])\n",
    "    plt.title(f'Distribuição de Temperaturas - Região {regiao}')\n",
    "    plt.xticks(rotation=45)\n",
    "    plt.tight_layout()\n",
    "    plt.savefig(f'../reports/temp_distribuicao_{regiao}.png')\n",
    "    plt.close()\n",
    "    \n",
    "    return stats\n",
    "\n",
    "# Analisar cada região\n",
    "for regiao, dados in dados_por_regiao.items():\n",
    "    print(f'\\nAnálise da Região {regiao}')\n",
    "    stats = analise_temperatura_regiao(dados, regiao)\n",
    "    if stats is not None:\n",
    "        print(stats)"
   ]
  },
  {
   "cell_type": "markdown",
   "metadata": {},
   "source": [
    "## Análise Temporal das Temperaturas\n",
    "\n",
    "Vamos analisar como as temperaturas variam ao longo do tempo em cada região."
   ]
  },
  {
   "cell_type": "code",
   "execution_count": null,
   "metadata": {},
   "source": [
    "def analise_temporal(df, regiao):\n",
    "    \"\"\"Realiza análise temporal das temperaturas.\n",
    "    \n",
    "    Args:\n",
    "        df (pd.DataFrame): DataFrame com os dados\n",
    "        regiao (str): Nome da região\n",
    "    \"\"\"\n",
    "    if df is None:\n",
    "        return\n",
    "    \n",
    "    # Converter data para datetime\n",
    "    df['DATA'] = pd.to_datetime(df['DATA'])\n",
    "    \n",
    "    # Média diária por região\n",
    "    medias_diarias = df.groupby('DATA')[['TEMPERATURA MÁXIMA, (°C)', \n",
    "                                         'TEMPERATURA MÍNIMA, (°C)', \n",
    "                                         'TEMPERATURA MÉDIA, (°C)']].mean()\n",
    "    \n",
    "    # Plotar série temporal\n",
    "    plt.figure(figsize=(15, 6))\n",
    "    plt.plot(medias_diarias.index, medias_diarias['TEMPERATURA MÁXIMA, (°C)'], label='Máxima')\n",
    "    plt.plot(medias_diarias.index, medias_diarias['TEMPERATURA MÍNIMA, (°C)'], label='Mínima')\n",
    "    plt.plot(medias_diarias.index, medias_diarias['TEMPERATURA MÉDIA, (°C)'], label='Média')\n",
    "    plt.title(f'Variação de Temperatura ao Longo do Tempo - Região {regiao}')\n",
    "    plt.xlabel('Data')\n",
    "    plt.ylabel('Temperatura (°C)')\n",
    "    plt.legend()\n",
    "    plt.grid(True)\n",
    "    plt.xticks(rotation=45)\n",
    "    plt.tight_layout()\n",
    "    plt.savefig(f'../reports/temp_temporal_{regiao}.png')\n",
    "    plt.close()\n",
    "\n",
    "# Análise temporal para cada região\n",
    "for regiao, dados in dados_por_regiao.items():\n",
    "    analise_temporal(dados, regiao)"
   ]
  },
  {
   "cell_type": "markdown",
   "metadata": {},
   "source": [
    "## Comparação Entre Regiões\n",
    "\n",
    "Vamos criar visualizações que comparam as temperaturas entre as diferentes regiões do Brasil."
   ]
  },
  {
   "cell_type": "code",
   "execution_count": null,
   "metadata": {},
   "source": [
    "def comparar_regioes(dados_por_regiao):\n",
    "    \"\"\"Cria visualizações comparativas entre as regiões.\n",
    "    \n",
    "    Args:\n",
    "        dados_por_regiao (dict): Dicionário com DataFrames por região\n",
    "    \"\"\"\n",
    "    # Preparar dados para comparação\n",
    "    dados_comparacao = []\n",
    "    for regiao, df in dados_por_regiao.items():\n",
    "        if df is not None:\n",
    "            medias = df[['TEMPERATURA MÁXIMA, (°C)', 'TEMPERATURA MÍNIMA, (°C)', 'TEMPERATURA MÉDIA, (°C)']].mean()\n",
    "            dados_comparacao.append({\n",
    "                'Região': regiao,\n",
    "                'Temperatura Máxima': medias['TEMPERATURA MÁXIMA, (°C)'],\n",
    "                'Temperatura Mínima': medias['TEMPERATURA MÍNIMA, (°C)'],\n",
    "                'Temperatura Média': medias['TEMPERATURA MÉDIA, (°C)']\n",
    "            })\n",
    "    \n",
    "    df_comparacao = pd.DataFrame(dados_comparacao)\n",
    "    \n",
    "    # Criar gráfico de barras comparativo\n",
    "    plt.figure(figsize=(12, 6))\n",
    "    x = np.arange(len(df_comparacao['Região']))\n",
    "    width = 0.25\n",
    "    \n",
    "    plt.bar(x - width, df_comparacao['Temperatura Máxima'], width, label='Máxima')\n",
    "    plt.bar(x, df_comparacao['Temperatura Média'], width, label='Média')\n",
    "    plt.bar(x + width, df_comparacao['Temperatura Mínima'], width, label='Mínima')\n",
    "    \n",
    "    plt.xlabel('Região')\n",
    "    plt.ylabel('Temperatura (°C)')\n",
    "    plt.title('Comparação de Temperaturas entre Regiões')\n",
    "    plt.xticks(x, df_comparacao['Região'])\n",
    "    plt.legend()\n",
    "    plt.grid(True)\n",
    "    plt.tight_layout()\n",
    "    plt.savefig('../reports/temp_comparacao_regioes.png')\n",
    "    plt.close()\n",
    "\n",
    "# Realizar comparação entre regiões\n",
    "comparar_regioes(dados_por_regiao)"
   ]
  }
 ],
 "metadata": {
  "kernelspec": {
   "display_name": "Python 3",
   "language": "python",
   "name": "python3"
  },
  "language_info": {
   "codemirror_mode": {
    "name": "ipython",
    "version": 3
   },
   "file_extension": ".py",
   "mimetype": "text/x-python",
   "name": "python",
   "nbconvert_exporter": "python",
   "pygments_lexer": "ipython3",
   "version": "3.8.0"
  }
 },
 "nbformat": 4,
 "nbformat_minor": 4
}
